{
 "cells": [
  {
   "cell_type": "markdown",
   "metadata": {
    "tags": []
   },
   "source": [
    "#  CSCI 3287  -- Final Project\n",
    "    \n",
    "## FDA Food Database Exploration"
   ]
  },
  {
   "cell_type": "markdown",
   "metadata": {
    "tags": []
   },
   "source": [
    "Name: Jarryd Allison\n",
    "\n",
    "Email: allisonj@colorado.edu\n",
    "\n",
    "GitHub ID: jarrydallison"
   ]
  },
  {
   "cell_type": "code",
   "execution_count": null,
   "metadata": {},
   "outputs": [],
   "source": [
    "import sqlite3"
   ]
  },
  {
   "cell_type": "code",
   "execution_count": null,
   "metadata": {},
   "outputs": [],
   "source": [
    "# First, create the database using the attached csvs\n",
    "# Connect to the database\n",
    "conn = sqlite3.connect('database.db')"
   ]
  },
  {
   "cell_type": "markdown",
   "metadata": {
    "jp-MarkdownHeadingCollapsed": true,
    "tags": []
   },
   "source": [
    "<hr>\n",
    "\n",
    "## Instructions / Notes:\n",
    "\n",
    "#### **_Read these carefully_**\n",
    "\n",
    "* You **may** create new Jupyter notebook cells to use for e.g. testing, debugging, exploring, etc.- this is encouraged in fact! \n",
    "\n",
    "* However, you you must clearly mark the solution to each sub-problem by having your solution in the cell immediately after the cells marked ```### PLACE YOUR SOLUTION in the next cell``` a cell immediately following your solution marked ```### SOLUTION in is the previous cell``` . Place any testing cells after the ending cell.\n",
    "\n",
    "* The expected results and correct output format of the queries are current displayed in the notebook. The results are printed in nice tables with headers. When you run your queries, for the questions the current correct results will be replace with your results which should look like the initial results.\n",
    "\n",
    "<hr>\n",
    "\n",
    "#### Submission Instructions:\n",
    " 1. Commit your changes to your local repository.\n",
    " 2. Push your changes to the remote repository in Git Classroom.\n",
    " 3. Print your notebook as a PDF document to have a completed version. \n",
    "    * To create a PDF from your notebook:  select `File` -> `Save and Export Notebook As..` -> `PDF`,\n",
    "\n",
    "If you run into problems with a query taking a very very long time, first try `Kernel` -> `Restart All and Run All Cells..` and then ask on Piazza\n",
    "\n",
    "###  _Have fun!_\n",
    "<hr>"
   ]
  },
  {
   "cell_type": "markdown",
   "metadata": {},
   "source": [
    "<hr>\n",
    "\n",
    "#### Set up a connection to a SQLite database\n",
    "Make sure you have decompressed the database file before running the next cell.  The next cell will create an empty database if the file *flights.db* is not in the current directory.\n",
    "\n",
    "#### The next cell will setup the SQL tools for JupyterHub Notebooks.\n",
    "* Remember:\n",
    "    * `%sql [SQL]` is for _single line_ SQL queries\n",
    "    * `%%sql \n",
    "    [SQL]` is for _multi line_ SQL queries\n"
   ]
  },
  {
   "cell_type": "code",
   "execution_count": 2,
   "metadata": {},
   "outputs": [
    {
     "data": {
      "text/plain": [
       "'Connected: @flights.db'"
      ]
     },
     "execution_count": 2,
     "metadata": {},
     "output_type": "execute_result"
    }
   ],
   "source": [
    "%reload_ext sql\n",
    "%sql sqlite:///flights.db"
   ]
  },
  {
   "cell_type": "markdown",
   "metadata": {},
   "source": [
    "<hr>"
   ]
  },
  {
   "cell_type": "markdown",
   "metadata": {},
   "source": [
    "## Introduction: Travel Delays\n",
    "<hr>\n",
    "\n",
    "There's nothing I dislike more than travel delays -- how about you?\n",
    "\n",
    "In fact, I'm always scheming new ways to avoid travel delays, and I just found an amazing dataset that will help me understand some of the causes and trade-offs when traveling. I wonder if you can use SQL to help me!"
   ]
  },
  {
   "cell_type": "markdown",
   "metadata": {},
   "source": [
    "Not surprisingly... you can! In this homework, we'll use SQL to explore airline travel delays that occurred in July 2007. To start, let's look at the primary relation in the database we've prepared for you:"
   ]
  },
  {
   "cell_type": "code",
   "execution_count": 33,
   "metadata": {},
   "outputs": [
    {
     "name": "stdout",
     "output_type": "stream",
     "text": [
      " * sqlite:///flights.db\n",
      "Done.\n"
     ]
    },
    {
     "data": {
      "text/html": [
       "<table>\n",
       "    <thead>\n",
       "        <tr>\n",
       "            <th>Year</th>\n",
       "            <th>Month</th>\n",
       "            <th>DayofMonth</th>\n",
       "            <th>DayOfWeek</th>\n",
       "            <th>DepTime</th>\n",
       "            <th>CRSDepTime</th>\n",
       "            <th>ArrTime</th>\n",
       "            <th>CRSArrTime</th>\n",
       "            <th>UniqueCarrier</th>\n",
       "            <th>FlightNum</th>\n",
       "            <th>TailNum</th>\n",
       "            <th>ActualElapsedTime</th>\n",
       "            <th>CRSElapsedTime</th>\n",
       "            <th>AirTime</th>\n",
       "            <th>ArrDelay</th>\n",
       "            <th>DepDelay</th>\n",
       "            <th>Origin</th>\n",
       "            <th>Dest</th>\n",
       "            <th>Distance</th>\n",
       "            <th>TaxiIn</th>\n",
       "            <th>TaxiOut</th>\n",
       "            <th>Cancelled</th>\n",
       "            <th>CancellationCode</th>\n",
       "            <th>Diverted</th>\n",
       "            <th>CarrierDelay</th>\n",
       "            <th>WeatherDelay</th>\n",
       "            <th>NASDelay</th>\n",
       "            <th>SecurityDelay</th>\n",
       "            <th>LateAircraftDelay</th>\n",
       "        </tr>\n",
       "    </thead>\n",
       "    <tbody>\n",
       "        <tr>\n",
       "            <td>2007</td>\n",
       "            <td>7</td>\n",
       "            <td>1</td>\n",
       "            <td>7</td>\n",
       "            <td>2052</td>\n",
       "            <td>2050</td>\n",
       "            <td>2153</td>\n",
       "            <td>2155</td>\n",
       "            <td>WN</td>\n",
       "            <td>575</td>\n",
       "            <td>N304SW</td>\n",
       "            <td>61</td>\n",
       "            <td>65</td>\n",
       "            <td>50</td>\n",
       "            <td>-2</td>\n",
       "            <td>2</td>\n",
       "            <td>ONT</td>\n",
       "            <td>SJC</td>\n",
       "            <td>333</td>\n",
       "            <td>5</td>\n",
       "            <td>6</td>\n",
       "            <td>0</td>\n",
       "            <td></td>\n",
       "            <td>0</td>\n",
       "            <td>0</td>\n",
       "            <td>0</td>\n",
       "            <td>0</td>\n",
       "            <td>0</td>\n",
       "            <td>0</td>\n",
       "        </tr>\n",
       "    </tbody>\n",
       "</table>"
      ],
      "text/plain": [
       "[(2007, 7, 1, 7, 2052, 2050, 2153, 2155, 'WN', 575, 'N304SW', 61, 65, 50, -2, 2, 'ONT', 'SJC', 333, 5, 6, 0, '', '0', 0, 0, 0, 0, 0)]"
      ]
     },
     "execution_count": 33,
     "metadata": {},
     "output_type": "execute_result"
    }
   ],
   "source": [
    "%%sql\n",
    "SELECT * \n",
    "FROM ontime \n",
    "LIMIT 1;"
   ]
  },
  {
   "cell_type": "markdown",
   "metadata": {},
   "source": [
    "Cool, there are so many columns! How many rows are there?"
   ]
  },
  {
   "cell_type": "code",
   "execution_count": 5,
   "metadata": {},
   "outputs": [
    {
     "name": "stdout",
     "output_type": "stream",
     "text": [
      " * sqlite:///flights.db\n",
      "Done.\n"
     ]
    },
    {
     "data": {
      "text/html": [
       "<table>\n",
       "    <thead>\n",
       "        <tr>\n",
       "            <th>num_rows</th>\n",
       "        </tr>\n",
       "    </thead>\n",
       "    <tbody>\n",
       "        <tr>\n",
       "            <td>648560</td>\n",
       "        </tr>\n",
       "    </tbody>\n",
       "</table>"
      ],
      "text/plain": [
       "[(648560,)]"
      ]
     },
     "execution_count": 5,
     "metadata": {},
     "output_type": "execute_result"
    }
   ],
   "source": [
    "%%sql\n",
    "SELECT COUNT(*) AS num_rows\n",
    "FROM ontime;"
   ]
  },
  {
   "cell_type": "markdown",
   "metadata": {},
   "source": [
    "Wow, that's a lot of data! Good thing you don't have to answer all of my questions by hand...\n",
    "\n",
    "You don't need to import more data into the database. However, you can find a description of each field online at [https://www.transtats.bts.gov/DL_SelectFields.asp?Table_ID=236](https://www.transtats.bts.gov/DL_SelectFields.asp?Table_ID=236). We actually downloaded the data from https://dataverse.harvard.edu/dataset.xhtml?persistentId=doi:10.7910/DVN/HG7NV7&version=1.0 and focused on just July 2007 to reduce the data size. \n",
    "\n",
    "We've pre-loaded a number of additional tables that will help you decode important fields like\n",
    "* `ontime` - the ontime flight data described at https://dataverse.harvard.edu/file.xhtml?persistentId=doi:10.7910/DVN/HG7NV7/YZWKHN&version=1.0\n",
    "* `carriers` - airlines described at https://dataverse.harvard.edu/file.xhtml?persistentId=doi:10.7910/DVN/HG7NV7/3NOQ6Q&version=1.0\n",
    "* `airports` - airports described at https://dataverse.harvard.edu/file.xhtml?persistentId=doi:10.7910/DVN/HG7NV7/XTPZZY&version=1.0\n",
    "* `planes` - individual plane information described at https://dataverse.harvard.edu/file.xhtml?persistentId=doi:10.7910/DVN/HG7NV7/XXSL8A&version=1.0\n",
    "* `weekdays` - hand-made database of weekdays with Sunday as day #1\n",
    "\n",
    "Please use the following cell to explore these the `carriers`, `airports`, `planes` and `weekdays` tables.  Try a few different select statements to see what each table contains."
   ]
  },
  {
   "cell_type": "code",
   "execution_count": 6,
   "metadata": {},
   "outputs": [
    {
     "name": "stdout",
     "output_type": "stream",
     "text": [
      " * sqlite:///flights.db\n",
      "Done.\n"
     ]
    },
    {
     "data": {
      "text/html": [
       "<table>\n",
       "    <thead>\n",
       "        <tr>\n",
       "            <th>code</th>\n",
       "            <th>carrier</th>\n",
       "        </tr>\n",
       "    </thead>\n",
       "    <tbody>\n",
       "        <tr>\n",
       "            <td>02Q</td>\n",
       "            <td>Titan Airways</td>\n",
       "        </tr>\n",
       "    </tbody>\n",
       "</table>"
      ],
      "text/plain": [
       "[('02Q', 'Titan Airways')]"
      ]
     },
     "execution_count": 6,
     "metadata": {},
     "output_type": "execute_result"
    }
   ],
   "source": [
    "%%sql\n",
    "select * from carriers Limit 1;"
   ]
  },
  {
   "cell_type": "markdown",
   "metadata": {},
   "source": [
    "<hr>\n",
    "\n",
    "### Your turn to write some queries\n",
    "<hr>"
   ]
  },
  {
   "cell_type": "markdown",
   "metadata": {},
   "source": [
    "Query 1: How long are flights delayed on average? (10 points)\n",
    "------------------------\n",
    "Just to get a sense of the data, let's start with a simple query.\n",
    "\n",
    "In the cell below, write a SQL query that returns the average arrival delay for the entire month of July 2007 (i.e., the whole dataset)."
   ]
  },
  {
   "cell_type": "code",
   "execution_count": 7,
   "metadata": {},
   "outputs": [],
   "source": [
    "### PLACE YOUR SOLUTION in the next cell\n",
    "### vvvvvvvvvvvvvvvvvvvvvvvvvvvvvvvvvvvvvv"
   ]
  },
  {
   "cell_type": "code",
   "execution_count": 8,
   "metadata": {},
   "outputs": [
    {
     "name": "stdout",
     "output_type": "stream",
     "text": [
      " * sqlite:///flights.db\n",
      "Done.\n"
     ]
    },
    {
     "data": {
      "text/html": [
       "<table>\n",
       "    <thead>\n",
       "        <tr>\n",
       "            <th>avg(ArrDelay)</th>\n",
       "        </tr>\n",
       "    </thead>\n",
       "    <tbody>\n",
       "        <tr>\n",
       "            <td>14.107679837700504</td>\n",
       "        </tr>\n",
       "    </tbody>\n",
       "</table>"
      ],
      "text/plain": [
       "[(14.107679837700504,)]"
      ]
     },
     "execution_count": 8,
     "metadata": {},
     "output_type": "execute_result"
    }
   ],
   "source": [
    "%%sql\n",
    "select avg(ArrDelay) from ontime;"
   ]
  },
  {
   "cell_type": "code",
   "execution_count": 9,
   "metadata": {},
   "outputs": [],
   "source": [
    "### ^^^^^^^^^^^^^^^^^^^^^^^^^^^^^^^^^^^\n",
    "### SOLUTION in is the previous cell\n"
   ]
  },
  {
   "cell_type": "markdown",
   "metadata": {},
   "source": [
    "Query 2: What was the worst flight delay? (10 points)\n",
    "------------------------\n",
    "Hmm, the average doesn't look too bad! What about the _worst_ delay?\n",
    "\n",
    "In the cell below, write a SQL query that returns the maximum arrival delay for the entire month of July 2007 (i.e., the whole dataset)."
   ]
  },
  {
   "cell_type": "code",
   "execution_count": 10,
   "metadata": {},
   "outputs": [],
   "source": [
    "### PLACE YOUR SOLUTION in the next cell\n",
    "### vvvvvvvvvvvvvvvvvvvvvvvvvvvvvvvvvvvvvv"
   ]
  },
  {
   "cell_type": "code",
   "execution_count": 11,
   "metadata": {},
   "outputs": [
    {
     "name": "stdout",
     "output_type": "stream",
     "text": [
      " * sqlite:///flights.db\n",
      "Done.\n"
     ]
    },
    {
     "data": {
      "text/html": [
       "<table>\n",
       "    <thead>\n",
       "        <tr>\n",
       "            <th>max(ArrDelay)</th>\n",
       "        </tr>\n",
       "    </thead>\n",
       "    <tbody>\n",
       "        <tr>\n",
       "            <td>1386</td>\n",
       "        </tr>\n",
       "    </tbody>\n",
       "</table>"
      ],
      "text/plain": [
       "[(1386,)]"
      ]
     },
     "execution_count": 11,
     "metadata": {},
     "output_type": "execute_result"
    }
   ],
   "source": [
    "%%sql\n",
    "select max(ArrDelay) from ontime;"
   ]
  },
  {
   "cell_type": "code",
   "execution_count": 12,
   "metadata": {},
   "outputs": [],
   "source": [
    "### ^^^^^^^^^^^^^^^^^^^^^^^^^^^^^^^^^^^\n",
    "### SOLUTION in is the previous cell\n"
   ]
  },
  {
   "cell_type": "markdown",
   "metadata": {},
   "source": [
    "Query 3: What flight am I happiest I didn't take? (10 points)\n",
    "------------------------\n",
    "Yikes! What flight was so late?\n",
    "\n",
    "In the cell below, write a SQL query that returns the airline code (i.e., `UniqueCarrier`), origin city name, destination city name, flight number, and arrival delay for the flight(s) with the maximum arrival delay for the entire month of July 2007. Do not hard-code the arrival delay you found above. Hint: use a subquery.\n",
    "\n",
    "Your query should have the following columns (using \"...as..\" to change attribute labels into table labels)\n",
    "\n",
    "|Airline Code | Origin | Destination|Flight Number|Arrival Delay|\n",
    "|-------------|--------|------------|-------------|-------------|\n",
    "| value... | value | value | value | value |\n",
    "| ZZ | New York | Atlanta | 1942 | 480 |\n",
    "\n",
    "If future problems, we would describe this as a query returning (`Airline Code`, `Origin City Name`, `Destination City Name`, `Flight Number`, `Arrival Delay`)."
   ]
  },
  {
   "cell_type": "code",
   "execution_count": 13,
   "metadata": {},
   "outputs": [],
   "source": [
    "### PLACE YOUR SOLUTION in the next cell\n",
    "### vvvvvvvvvvvvvvvvvvvvvvvvvvvvvvvvvvvvvv"
   ]
  },
  {
   "cell_type": "code",
   "execution_count": 14,
   "metadata": {},
   "outputs": [
    {
     "name": "stdout",
     "output_type": "stream",
     "text": [
      " * sqlite:///flights.db\n",
      "Done.\n"
     ]
    },
    {
     "data": {
      "text/html": [
       "<table>\n",
       "    <thead>\n",
       "        <tr>\n",
       "            <th>Airline Code</th>\n",
       "            <th>Origin</th>\n",
       "            <th>Destination</th>\n",
       "            <th>Airline</th>\n",
       "            <th>Flight Number</th>\n",
       "            <th>Arrival Delay</th>\n",
       "        </tr>\n",
       "    </thead>\n",
       "    <tbody>\n",
       "        <tr>\n",
       "            <td>AA</td>\n",
       "            <td>Las Vegas</td>\n",
       "            <td>Dallas-Fort Worth</td>\n",
       "            <td>American Airlines Inc.</td>\n",
       "            <td>1004</td>\n",
       "            <td>1386</td>\n",
       "        </tr>\n",
       "    </tbody>\n",
       "</table>"
      ],
      "text/plain": [
       "[('AA', 'Las Vegas', 'Dallas-Fort Worth', 'American Airlines Inc.', 1004, 1386)]"
      ]
     },
     "execution_count": 14,
     "metadata": {},
     "output_type": "execute_result"
    }
   ],
   "source": [
    "%%sql\n",
    "select UniqueCarrier as \"Airline Code\", A1.city as 'Origin', A2.city as 'Destination', carrier as 'Airline', FlightNum as \"Flight Number\", ArrDelay as \"Arrival Delay\"\n",
    "from ontime, airports AS A1, airports as A2, carriers\n",
    "where ArrDelay = (select max(ArrDelay) from ontime) and A1.iata = Origin and A2.iata = Dest and code = UniqueCarrier;"
   ]
  },
  {
   "cell_type": "code",
   "execution_count": 15,
   "metadata": {},
   "outputs": [],
   "source": [
    "### ^^^^^^^^^^^^^^^^^^^^^^^^^^^^^^^^^^^\n",
    "### SOLUTION in is the previous cell\n"
   ]
  },
  {
   "cell_type": "markdown",
   "metadata": {},
   "source": [
    "Query 4: Which are the worst days to travel? (10 points)\n",
    "------------------------\n",
    "Since class just started, I don't have time to head to travel anytime soon. However, I'm headed out of town for a trip next week! What day is worst for booking my flight?\n",
    "\n",
    "In the cell below, write a SQL query that returns the average arrival delay time for each day of the week, in descending order. \n",
    "\n",
    "The schema of your relation should be of the form (`Day of Week`, `Average Delay`).\n",
    "\n",
    "**Note: do _not_ report the weekday ID.** (Hint: look at the `weekdays` table and perform a join to obtain the weekday name.)"
   ]
  },
  {
   "cell_type": "code",
   "execution_count": 16,
   "metadata": {},
   "outputs": [],
   "source": [
    "### PLACE YOUR SOLUTION in the next cell\n",
    "### vvvvvvvvvvvvvvvvvvvvvvvvvvvvvvvvvvvvvv"
   ]
  },
  {
   "cell_type": "code",
   "execution_count": 17,
   "metadata": {},
   "outputs": [
    {
     "name": "stdout",
     "output_type": "stream",
     "text": [
      " * sqlite:///flights.db\n",
      "Done.\n"
     ]
    },
    {
     "data": {
      "text/html": [
       "<table>\n",
       "    <thead>\n",
       "        <tr>\n",
       "            <th>weekday_name</th>\n",
       "            <th>average_delay</th>\n",
       "        </tr>\n",
       "    </thead>\n",
       "    <tbody>\n",
       "        <tr>\n",
       "            <td>Wednesday</td>\n",
       "            <td>18.104848250718305</td>\n",
       "        </tr>\n",
       "        <tr>\n",
       "            <td>Saturday</td>\n",
       "            <td>17.03286664090445</td>\n",
       "        </tr>\n",
       "        <tr>\n",
       "            <td>Sunday</td>\n",
       "            <td>15.889976224441275</td>\n",
       "        </tr>\n",
       "        <tr>\n",
       "            <td>Thursday</td>\n",
       "            <td>13.359122962962964</td>\n",
       "        </tr>\n",
       "        <tr>\n",
       "            <td>Monday</td>\n",
       "            <td>12.97324491855269</td>\n",
       "        </tr>\n",
       "        <tr>\n",
       "            <td>Tuesday</td>\n",
       "            <td>12.716138992293423</td>\n",
       "        </tr>\n",
       "        <tr>\n",
       "            <td>Friday</td>\n",
       "            <td>7.1869733939345615</td>\n",
       "        </tr>\n",
       "    </tbody>\n",
       "</table>"
      ],
      "text/plain": [
       "[('Wednesday', 18.104848250718305),\n",
       " ('Saturday', 17.03286664090445),\n",
       " ('Sunday', 15.889976224441275),\n",
       " ('Thursday', 13.359122962962964),\n",
       " ('Monday', 12.97324491855269),\n",
       " ('Tuesday', 12.716138992293423),\n",
       " ('Friday', 7.1869733939345615)]"
      ]
     },
     "execution_count": 17,
     "metadata": {},
     "output_type": "execute_result"
    }
   ],
   "source": [
    "%%sql\n",
    "SELECT Name as 'weekday_name', Avg(ArrDelay) as 'average_delay'\n",
    "FROM ontime\n",
    "INNER JOIN weekdays\n",
    "ON weekdays.DayOfWeek = ontime.DayOfWeek\n",
    "GROUP BY Name\n",
    "ORDER BY Avg(ArrDelay) DESC;"
   ]
  },
  {
   "cell_type": "code",
   "execution_count": 18,
   "metadata": {},
   "outputs": [],
   "source": [
    "### ^^^^^^^^^^^^^^^^^^^^^^^^^^^^^^^^^^^\n",
    "### SOLUTION in is the previous cell\n"
   ]
  },
  {
   "cell_type": "markdown",
   "metadata": {},
   "source": [
    "Query 5: Which airlines that fly out of DEN are delayed least?\n",
    "------------------------\n",
    "Now that I know which days to avoid, I'm curious which airline I should fly out of DEN. Since I haven't been told where I'm flying, please just compute the average for the airlines that fly from DEN.\n",
    "\n",
    "In the cell below, write a SQL query that returns the average arrival delay time (across _all_ flights) for each carrier that flew out of DEN at least once in July 2007 (i.e., in the current dataset), in descending order.\n",
    "\n",
    "The schema of your relation should be of the form (`Airline Name`, `Average Delay`).\n",
    "\n",
    "\n",
    "**Note: do _not_ report the airline ID (UniqueCarrier).** (Hint: a subquery is helpful here; also, look at the `carriers` table and perform a join.)"
   ]
  },
  {
   "cell_type": "code",
   "execution_count": 19,
   "metadata": {},
   "outputs": [],
   "source": [
    "### PLACE YOUR SOLUTION in the next cell\n",
    "### vvvvvvvvvvvvvvvvvvvvvvvvvvvvvvvvvvvvvv"
   ]
  },
  {
   "cell_type": "code",
   "execution_count": 20,
   "metadata": {},
   "outputs": [
    {
     "name": "stdout",
     "output_type": "stream",
     "text": [
      " * sqlite:///flights.db\n",
      "Done.\n"
     ]
    },
    {
     "data": {
      "text/html": [
       "<table>\n",
       "    <thead>\n",
       "        <tr>\n",
       "            <th>carrier_code</th>\n",
       "            <th>carrier_name</th>\n",
       "            <th>AVG(ArrDelay)</th>\n",
       "        </tr>\n",
       "    </thead>\n",
       "    <tbody>\n",
       "        <tr>\n",
       "            <td>B6</td>\n",
       "            <td>JetBlue Airways</td>\n",
       "            <td>30.157894736842106</td>\n",
       "        </tr>\n",
       "        <tr>\n",
       "            <td>OH</td>\n",
       "            <td>Comair Inc.</td>\n",
       "            <td>26.0</td>\n",
       "        </tr>\n",
       "        <tr>\n",
       "            <td>XE</td>\n",
       "            <td>Expressjet Airlines Inc.</td>\n",
       "            <td>23.3046875</td>\n",
       "        </tr>\n",
       "        <tr>\n",
       "            <td>AA</td>\n",
       "            <td>American Airlines Inc.</td>\n",
       "            <td>19.608169440242058</td>\n",
       "        </tr>\n",
       "        <tr>\n",
       "            <td>UA</td>\n",
       "            <td>United Air Lines Inc.</td>\n",
       "            <td>16.398711524695777</td>\n",
       "        </tr>\n",
       "        <tr>\n",
       "            <td>NW</td>\n",
       "            <td>Northwest Airlines Inc.</td>\n",
       "            <td>16.311720698254366</td>\n",
       "        </tr>\n",
       "        <tr>\n",
       "            <td>AS</td>\n",
       "            <td>Alaska Airlines Inc.</td>\n",
       "            <td>15.78139534883721</td>\n",
       "        </tr>\n",
       "        <tr>\n",
       "            <td>US</td>\n",
       "            <td>US Airways Inc. (Merged with America West 9/05. Reporting for both starting 10/07.)</td>\n",
       "            <td>13.11697247706422</td>\n",
       "        </tr>\n",
       "        <tr>\n",
       "            <td>DL</td>\n",
       "            <td>Delta Air Lines Inc.</td>\n",
       "            <td>12.268361581920903</td>\n",
       "        </tr>\n",
       "        <tr>\n",
       "            <td>CO</td>\n",
       "            <td>Continental Air Lines Inc.</td>\n",
       "            <td>12.004878048780487</td>\n",
       "        </tr>\n",
       "        <tr>\n",
       "            <td>F9</td>\n",
       "            <td>Frontier Airlines Inc.</td>\n",
       "            <td>11.90063233965673</td>\n",
       "        </tr>\n",
       "        <tr>\n",
       "            <td>OO</td>\n",
       "            <td>Skywest Airlines Inc.</td>\n",
       "            <td>10.33487618606804</td>\n",
       "        </tr>\n",
       "        <tr>\n",
       "            <td>YV</td>\n",
       "            <td>Mesa Airlines Inc.</td>\n",
       "            <td>9.656940063091483</td>\n",
       "        </tr>\n",
       "        <tr>\n",
       "            <td>WN</td>\n",
       "            <td>Southwest Airlines Co.</td>\n",
       "            <td>8.14156378600823</td>\n",
       "        </tr>\n",
       "        <tr>\n",
       "            <td>EV</td>\n",
       "            <td>Atlantic Southeast Airlines</td>\n",
       "            <td>6.045454545454546</td>\n",
       "        </tr>\n",
       "        <tr>\n",
       "            <td>FL</td>\n",
       "            <td>AirTran Airways Corporation</td>\n",
       "            <td>4.193548387096774</td>\n",
       "        </tr>\n",
       "    </tbody>\n",
       "</table>"
      ],
      "text/plain": [
       "[('B6', 'JetBlue Airways', 30.157894736842106),\n",
       " ('OH', 'Comair Inc.', 26.0),\n",
       " ('XE', 'Expressjet Airlines Inc.', 23.3046875),\n",
       " ('AA', 'American Airlines Inc.', 19.608169440242058),\n",
       " ('UA', 'United Air Lines Inc.', 16.398711524695777),\n",
       " ('NW', 'Northwest Airlines Inc.', 16.311720698254366),\n",
       " ('AS', 'Alaska Airlines Inc.', 15.78139534883721),\n",
       " ('US', 'US Airways Inc. (Merged with America West 9/05. Reporting for both starting 10/07.)', 13.11697247706422),\n",
       " ('DL', 'Delta Air Lines Inc.', 12.268361581920903),\n",
       " ('CO', 'Continental Air Lines Inc.', 12.004878048780487),\n",
       " ('F9', 'Frontier Airlines Inc.', 11.90063233965673),\n",
       " ('OO', 'Skywest Airlines Inc.', 10.33487618606804),\n",
       " ('YV', 'Mesa Airlines Inc.', 9.656940063091483),\n",
       " ('WN', 'Southwest Airlines Co.', 8.14156378600823),\n",
       " ('EV', 'Atlantic Southeast Airlines', 6.045454545454546),\n",
       " ('FL', 'AirTran Airways Corporation', 4.193548387096774)]"
      ]
     },
     "execution_count": 20,
     "metadata": {},
     "output_type": "execute_result"
    }
   ],
   "source": [
    "%%sql\n",
    "SELECT UniqueCarrier as 'carrier_code', carrier as 'carrier_name', AVG(ArrDelay)\n",
    "FROM ontime, carriers\n",
    "WHERE Origin = 'DEN' and Code = UniqueCarrier\n",
    "GROUP BY UniqueCarrier\n",
    "ORDER BY AVG(ArrDelay) DESC;"
   ]
  },
  {
   "cell_type": "code",
   "execution_count": 21,
   "metadata": {},
   "outputs": [],
   "source": [
    "### ^^^^^^^^^^^^^^^^^^^^^^^^^^^^^^^^^^^\n",
    "### SOLUTION in is the previous cell\n"
   ]
  },
  {
   "cell_type": "markdown",
   "metadata": {},
   "source": [
    "Query 6: What proportion of airlines are regularly late?\n",
    "------------------------\n",
    "Yeesh, there are a lot of late flights! How many airlines are regularly late?\n",
    "\n",
    "In the cell below, write a SQL query that returns the proportion of airlines (appearing in `ontime`) whose flights are on average at least 10 minutes late to arrive. For example, if 4 of 8 airlines have average arrival delays of at least 10 minutes, you would report 0.5\n",
    "\n",
    "Do not hard-code the total number of airlines, and make sure to use at least one `HAVING` clause in your SQL query.\n",
    "\n",
    "**Note:** sqlite `COUNT(*)` returns integer types. Therefore, your query should likely contain at least one `SELECT CAST (COUNT(*) AS float)` or a clause like `COUNT(*)*1.0`."
   ]
  },
  {
   "cell_type": "code",
   "execution_count": 22,
   "metadata": {},
   "outputs": [],
   "source": [
    "### PLACE YOUR SOLUTION in the next cell\n",
    "### vvvvvvvvvvvvvvvvvvvvvvvvvvvvvvvvvvvvvv"
   ]
  },
  {
   "cell_type": "code",
   "execution_count": 23,
   "metadata": {},
   "outputs": [
    {
     "name": "stdout",
     "output_type": "stream",
     "text": [
      " * sqlite:///flights.db\n",
      "Done.\n"
     ]
    },
    {
     "data": {
      "text/html": [
       "<table>\n",
       "    <thead>\n",
       "        <tr>\n",
       "            <th>Percentage Late</th>\n",
       "        </tr>\n",
       "    </thead>\n",
       "    <tbody>\n",
       "        <tr>\n",
       "            <td>0.7</td>\n",
       "        </tr>\n",
       "    </tbody>\n",
       "</table>"
      ],
      "text/plain": [
       "[(0.7,)]"
      ]
     },
     "execution_count": 23,
     "metadata": {},
     "output_type": "execute_result"
    }
   ],
   "source": [
    "%%sql\n",
    "SELECT Later*1.0/Total as 'Percentage Late'\n",
    "FROM (\n",
    "    SELECT COUNT(*) as Later\n",
    "    FROM (\n",
    "        SELECT UniqueCarrier\n",
    "        FROM ontime\n",
    "        GROUP BY UniqueCarrier\n",
    "        HAVING AVG(ArrDelay) >= 10\n",
    "        )\n",
    "    ),\n",
    "    (\n",
    "        SELECT COUNT(DISTINCT UniqueCarrier) as Total\n",
    "        FROM ontime\n",
    "    );"
   ]
  },
  {
   "cell_type": "code",
   "execution_count": 24,
   "metadata": {},
   "outputs": [],
   "source": [
    "### ^^^^^^^^^^^^^^^^^^^^^^^^^^^^^^^^^^^\n",
    "### SOLUTION in is the previous cell\n"
   ]
  },
  {
   "cell_type": "markdown",
   "metadata": {},
   "source": [
    "Query 7: How do late departures affect late arrivals?\n",
    "------------------------\n",
    "It sure looks like my plane is likely to be delayed. I'd like to know: if my plane is delayed in taking off, how will it affect my arrival time?\n",
    "\n",
    "The [sample covariance](https://en.wikipedia.org/wiki/Covariance) provides a measure of the joint variability of two variables. The higher the covariance, the more the two variables behave similarly, and negative covariance indicates the variables indicate the variables tend to be inversely related. We can compute the sample covariance as:\n",
    "$$\n",
    "Cov(X,Y) = \\frac{1}{n-1} \\sum_{i=1}^n (x_i-\\bar{x})(y_i-\\bar{y})\n",
    "$$\n",
    "where $x_i$ denotes the $i$th sample of $X$, $y_i$ the $i$th sample of $Y$, and the mean of $X$ and $Y$ are denoted by $\\bar{x}$ and $\\bar{y}$.\n",
    "\n",
    "In the cell below, write a single SQL query that computes the covariance between the departure delay time and the arrival delay time. You should explicitly exclude entries where either the arrival or departure delay is NULL.\n",
    "\n",
    "*Note: we could also compute a statistic like the [Pearson correlation coefficient](https://en.wikipedia.org/wiki/Pearson_correlation_coefficient) here, which provides a normalized measure (i.e., on a scale from -1 to 1) of how strongly two variables are related. However, sqlite doesn't natively support square roots (unlike commonly-used relational databases like PostgreSQL and MySQL!), so we're asking you to compute covariance instead.*"
   ]
  },
  {
   "cell_type": "code",
   "execution_count": 25,
   "metadata": {},
   "outputs": [],
   "source": [
    "### PLACE YOUR SOLUTION in the next cell\n",
    "### vvvvvvvvvvvvvvvvvvvvvvvvvvvvvvvvvvvvvv"
   ]
  },
  {
   "cell_type": "code",
   "execution_count": 7,
   "metadata": {},
   "outputs": [
    {
     "name": "stdout",
     "output_type": "stream",
     "text": [
      " * sqlite:///flights.db\n",
      "Done.\n"
     ]
    },
    {
     "data": {
      "text/html": [
       "<table>\n",
       "    <thead>\n",
       "        <tr>\n",
       "            <th>COV</th>\n",
       "        </tr>\n",
       "    </thead>\n",
       "    <tbody>\n",
       "        <tr>\n",
       "            <td>1672.7287544186024</td>\n",
       "        </tr>\n",
       "    </tbody>\n",
       "</table>"
      ],
      "text/plain": [
       "[(1672.7287544186024,)]"
      ]
     },
     "execution_count": 7,
     "metadata": {},
     "output_type": "execute_result"
    }
   ],
   "source": [
    "%%sql\n",
    "SELECT SUM((DepDelay - d_avg)*(ArrDelay -a_avg))/(COUNT(*) - 1) as COV\n",
    "FROM ontime, (SELECT AVG(DepDelay) as d_avg, AVG(ArrDelay) as a_avg FROM ontime)\n",
    "WHERE ArrDelay IS NOT NULL AND DepDelay IS NOT NULL;"
   ]
  },
  {
   "cell_type": "code",
   "execution_count": null,
   "metadata": {},
   "outputs": [],
   "source": [
    "### ^^^^^^^^^^^^^^^^^^^^^^^^^^^^^^^^^^^\n",
    "### SOLUTION in is the previous cell\n"
   ]
  },
  {
   "cell_type": "markdown",
   "metadata": {
    "tags": []
   },
   "source": [
    "Query 8: It was a bad week...\n",
    "------------------------\n",
    "Which airlines had the largest absolute increase in average arrival delay in the last week of July (i.e., flights on or after July 24th) compared to the previous days (i.e. flights before July 24th)?\n",
    "\n",
    "In the cell below, write a single SQL query that returns the airline name (_not just_ ID) with the maximum absolute increase in average arrival delay between the first 23 days of the month and days 24-31. Report both the airline name and the absolute increase.\n",
    "\n",
    "**Note:** due to [sqlite's handling of dates](http://www.sqlite.org/lang_datefunc.html), it may be easier to query using `day_of_month`.\n",
    "\n",
    "**Note 2:** This is probably the hardest query of the assignment; break it down into subqueries that you can run one-by-one and build up your answer subquery by subquery.\n",
    "\n",
    "**Hint:** You can compute two subqueries, one to compute the average arrival delay for flights on or after July 24th, and one to compute the average arrival delay for flights before July 24th, and then join the two to calculate the increase in delay. "
   ]
  },
  {
   "cell_type": "code",
   "execution_count": null,
   "metadata": {},
   "outputs": [],
   "source": [
    "### PLACE YOUR SOLUTION in the next cell\n",
    "### vvvvvvvvvvvvvvvvvvvvvvvvvvvvvvvvvvvvvv"
   ]
  },
  {
   "cell_type": "code",
   "execution_count": 70,
   "metadata": {},
   "outputs": [
    {
     "name": "stdout",
     "output_type": "stream",
     "text": [
      " * sqlite:///flights.db\n",
      "Done.\n"
     ]
    },
    {
     "data": {
      "text/html": [
       "<table>\n",
       "    <thead>\n",
       "        <tr>\n",
       "            <th>avg delay increase</th>\n",
       "            <th>airline</th>\n",
       "        </tr>\n",
       "    </thead>\n",
       "    <tbody>\n",
       "        <tr>\n",
       "            <td>8.125207088689457</td>\n",
       "            <td>US Airways Inc. (Merged with America West 9/05. Reporting for both starting 10/07.)</td>\n",
       "        </tr>\n",
       "    </tbody>\n",
       "</table>"
      ],
      "text/plain": [
       "[(8.125207088689457, 'US Airways Inc. (Merged with America West 9/05. Reporting for both starting 10/07.)')]"
      ]
     },
     "execution_count": 70,
     "metadata": {},
     "output_type": "execute_result"
    }
   ],
   "source": [
    "%%sql\n",
    "SELECT MAX(second - first) as 'avg delay increase', firstHalf.carrier as airline\n",
    "FROM\n",
    "    (\n",
    "        (\n",
    "            SELECT AVG(ArrDelay) as first, carrier\n",
    "            FROM ontime, carriers\n",
    "            WHERE DayOfMonth < 24 and UniqueCarrier = Code\n",
    "            GROUP BY UniqueCarrier\n",
    "        ) as firstHalf\n",
    "        INNER JOIN\n",
    "        (\n",
    "            SELECT AVG(ArrDelay) as second, carrier\n",
    "            FROM ontime, carriers\n",
    "            WHERE DayOfMonth >= 24 and UniqueCarrier = Code\n",
    "            GROUP BY UniqueCarrier\n",
    "        ) as secondHalf\n",
    "        ON firstHalf.carrier = secondHalf.carrier\n",
    "    )"
   ]
  },
  {
   "cell_type": "code",
   "execution_count": null,
   "metadata": {},
   "outputs": [],
   "source": [
    "### ^^^^^^^^^^^^^^^^^^^^^^^^^^^^^^^^^^^\n",
    "### SOLUTION in is the previous cell"
   ]
  },
  {
   "cell_type": "markdown",
   "metadata": {},
   "source": [
    "Query 9: Of Hipsters and Technologists\n",
    "------------------------\n",
    "I'm keen to visit both Portland (PDX) and San Francisco (SFO), but I can't fit both into the same trip. To maximize my frequent flier mileage, I'd like to use the same airline for each. Which airlines fly both DEN -> PDX and DEN -> SFO?\n",
    "\n",
    "In the cell below, write a single SQL query that returns the distinct airline names (_not_ ID, and with no duplicates) that flew both DEN -> PDX and DEN -> SFO in July 2007."
   ]
  },
  {
   "cell_type": "code",
   "execution_count": null,
   "metadata": {},
   "outputs": [],
   "source": [
    "### PLACE YOUR SOLUTION in the next cell\n",
    "### vvvvvvvvvvvvvvvvvvvvvvvvvvvvvvvvvvvvvv"
   ]
  },
  {
   "cell_type": "code",
   "execution_count": 30,
   "metadata": {},
   "outputs": [
    {
     "name": "stdout",
     "output_type": "stream",
     "text": [
      " * sqlite:///flights.db\n",
      "Done.\n"
     ]
    },
    {
     "data": {
      "text/html": [
       "<table>\n",
       "    <thead>\n",
       "        <tr>\n",
       "            <th>carrier</th>\n",
       "        </tr>\n",
       "    </thead>\n",
       "    <tbody>\n",
       "        <tr>\n",
       "            <td>Frontier Airlines Inc.</td>\n",
       "        </tr>\n",
       "        <tr>\n",
       "            <td>United Air Lines Inc.</td>\n",
       "        </tr>\n",
       "    </tbody>\n",
       "</table>"
      ],
      "text/plain": [
       "[('Frontier Airlines Inc.',), ('United Air Lines Inc.',)]"
      ]
     },
     "execution_count": 30,
     "metadata": {},
     "output_type": "execute_result"
    }
   ],
   "source": [
    "%%sql\n",
    "SELECT *\n",
    "FROM \n",
    "    (\n",
    "        SELECT carrier\n",
    "        FROM ontime, carriers\n",
    "        WHERE Dest IN ('SFO', 'PDX') AND Origin = 'DEN' and Code = UniqueCarrier\n",
    "        GROUP BY Dest, UniqueCarrier\n",
    "    )\n",
    "GROUP BY carrier\n",
    "HAVING COUNT() >= 2;"
   ]
  },
  {
   "cell_type": "code",
   "execution_count": null,
   "metadata": {},
   "outputs": [],
   "source": [
    "### ^^^^^^^^^^^^^^^^^^^^^^^^^^^^^^^^^^^\n",
    "### SOLUTION in is the previous cell\n"
   ]
  },
  {
   "cell_type": "markdown",
   "metadata": {},
   "source": [
    "Query 10: Decision Fatigue and Equidistance\n",
    "------------------------\n",
    "I'm flying back to Denver from LA later this month, and I can fly out of either LA (LAX), Ontario (ONT) or San Diego (SAN) and can fly into either Denver (DEN) or Colorado Spring (COS). If this month is like July, which flight will have the shortest arrival delay for flights leaving after 2PM local time?\n",
    "\n",
    "In the cell below, write a single SQL query that returns the average arrival delay of flights departing either LAX, ONT or SAN after 2PM local time (`CrsDepTime`) and arriving at one of DEN or COS. Group by departure and arrival airport and return results descending by arrival delay.\n",
    "\n",
    "Note: the `CrsDepTime` field is an integer formatted as hhmm (e.g. 4:15pm is 1615)"
   ]
  },
  {
   "cell_type": "code",
   "execution_count": null,
   "metadata": {},
   "outputs": [],
   "source": [
    "### PLACE YOUR SOLUTION in the next cell\n",
    "### vvvvvvvvvvvvvvvvvvvvvvvvvvvvvvvvvvvvvv"
   ]
  },
  {
   "cell_type": "code",
   "execution_count": 3,
   "metadata": {},
   "outputs": [
    {
     "name": "stdout",
     "output_type": "stream",
     "text": [
      " * sqlite:///flights.db\n",
      "Done.\n"
     ]
    },
    {
     "data": {
      "text/html": [
       "<table>\n",
       "    <thead>\n",
       "        <tr>\n",
       "            <th>Origin</th>\n",
       "            <th>Dest</th>\n",
       "            <th>Delay</th>\n",
       "        </tr>\n",
       "    </thead>\n",
       "    <tbody>\n",
       "        <tr>\n",
       "            <td>SAN</td>\n",
       "            <td>COS</td>\n",
       "            <td>25.548387096774192</td>\n",
       "        </tr>\n",
       "        <tr>\n",
       "            <td>ONT</td>\n",
       "            <td>DEN</td>\n",
       "            <td>23.285714285714285</td>\n",
       "        </tr>\n",
       "        <tr>\n",
       "            <td>LAX</td>\n",
       "            <td>DEN</td>\n",
       "            <td>22.167192429022084</td>\n",
       "        </tr>\n",
       "        <tr>\n",
       "            <td>SAN</td>\n",
       "            <td>DEN</td>\n",
       "            <td>18.78409090909091</td>\n",
       "        </tr>\n",
       "        <tr>\n",
       "            <td>LAX</td>\n",
       "            <td>COS</td>\n",
       "            <td>13.366666666666667</td>\n",
       "        </tr>\n",
       "        <tr>\n",
       "            <td>ONT</td>\n",
       "            <td>COS</td>\n",
       "            <td>8.0</td>\n",
       "        </tr>\n",
       "    </tbody>\n",
       "</table>"
      ],
      "text/plain": [
       "[('SAN', 'COS', 25.548387096774192),\n",
       " ('ONT', 'DEN', 23.285714285714285),\n",
       " ('LAX', 'DEN', 22.167192429022084),\n",
       " ('SAN', 'DEN', 18.78409090909091),\n",
       " ('LAX', 'COS', 13.366666666666667),\n",
       " ('ONT', 'COS', 8.0)]"
      ]
     },
     "execution_count": 3,
     "metadata": {},
     "output_type": "execute_result"
    }
   ],
   "source": [
    "%%sql\n",
    "SELECT Origin, Dest, AVG(ArrDelay) as Delay\n",
    "FROM ontime\n",
    "WHERE CrsDepTime > 1400 AND (Dest = 'DEN' OR Dest = 'COS') AND (\n",
    "    Origin = 'LAX' OR Origin = 'ONT' OR Origin = 'SAN'\n",
    ")\n",
    "GROUP BY Origin, Dest\n",
    "ORDER BY Delay DESC;"
   ]
  },
  {
   "cell_type": "code",
   "execution_count": null,
   "metadata": {},
   "outputs": [],
   "source": [
    "### ^^^^^^^^^^^^^^^^^^^^^^^^^^^^^^^^^^^\n",
    "### SOLUTION in is the previous cell\n"
   ]
  },
  {
   "cell_type": "markdown",
   "metadata": {},
   "source": [
    "## You're done! Now *commit* and *push* your notebook!\n",
    " * Make sure to submit information in the Moodle assignment.\n",
    " * Make sure you have entered your information at the top of the notebook.\n",
    " * Refer to the top of this notebook for submission instructions."
   ]
  }
 ],
 "metadata": {
  "kernelspec": {
   "display_name": "Python 3 (ipykernel)",
   "language": "python",
   "name": "python3"
  },
  "language_info": {
   "codemirror_mode": {
    "name": "ipython",
    "version": 3
   },
   "file_extension": ".py",
   "mimetype": "text/x-python",
   "name": "python",
   "nbconvert_exporter": "python",
   "pygments_lexer": "ipython3",
   "version": "3.10.8"
  },
  "nteract": {
   "version": "0.14.5"
  }
 },
 "nbformat": 4,
 "nbformat_minor": 4
}
